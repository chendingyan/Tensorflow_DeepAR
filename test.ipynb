{
 "cells": [
  {
   "cell_type": "code",
   "execution_count": 1,
   "metadata": {},
   "outputs": [],
   "source": [
    "%load_ext autoreload\n",
    "%autoreload 2"
   ]
  },
  {
   "cell_type": "code",
   "execution_count": 2,
   "metadata": {
    "tags": []
   },
   "outputs": [],
   "source": [
    "import pandas as pd\n",
    "import warnings\n",
    "\n",
    "warnings.filterwarnings(\"ignore\")\n",
    "from deepar.ts_dataset import TSTrainDataset, TSTestDataset\n",
    "from deepar.learner import DeepARLearner\n",
    "import tensorflow as tf\n",
    "import numpy as np\n",
    "import os \n",
    "import time\n",
    "os.environ[\"CUDA_DEVICE_ORDER\"] = 'PCI_BUS_ID'\n",
    "os.environ['CUDA_VISIBLE_DEVICES'] = '0'\n",
    "\n",
    "gpus = tf.config.experimental.list_physical_devices(\"GPU\")\n",
    "if gpus:\n",
    "    try:\n",
    "        for gpu in gpus:\n",
    "            tf.config.experimental.set_memory_growth(gpu, True)\n",
    "    except RuntimeError as e:\n",
    "        print(e)\n",
    "        exit(-1)\n"
   ]
  },
  {
   "cell_type": "code",
   "execution_count": 3,
   "metadata": {},
   "outputs": [],
   "source": [
    "data = pd.read_csv(\"data/train_new.csv\")"
   ]
  },
  {
   "cell_type": "code",
   "execution_count": 4,
   "metadata": {},
   "outputs": [],
   "source": [
    "data['日期'] = pd.to_datetime(data['日期'])\n",
    "data['固网投诉率'] = data['固网投诉率'].fillna(0)"
   ]
  },
  {
   "cell_type": "code",
   "execution_count": null,
   "metadata": {},
   "outputs": [],
   "source": [
    "data['固网投诉率'].describe()"
   ]
  },
  {
   "cell_type": "code",
   "execution_count": 5,
   "metadata": {},
   "outputs": [],
   "source": [
    "# 这个地方很奇怪，我把target变成int之后，结果就变正常了，整个调用的loss也没变，数据处理应该也没有针对target类型的处理\n",
    "data['固网投诉率'] = data['固网投诉率'].astype(int)"
   ]
  },
  {
   "cell_type": "markdown",
   "metadata": {},
   "source": [
    "区分训练集，测试集"
   ]
  },
  {
   "cell_type": "code",
   "execution_count": 6,
   "metadata": {},
   "outputs": [],
   "source": [
    "train_df = data[data['日期']<='2022-07-31']\n",
    "test_df = data[data['日期']>='2022-08-01']"
   ]
  },
  {
   "cell_type": "markdown",
   "metadata": {},
   "source": [
    "新建TSTrainDataset对象，其中id作为groupby_col需加到feat_static_cats中，count_data=False代表依然是用Gaussian_loss_likelihood"
   ]
  },
  {
   "cell_type": "code",
   "execution_count": 7,
   "metadata": {},
   "outputs": [],
   "source": [
    "ds = TSTrainDataset(df=train_df, date_col='日期', target_col='固网投诉率', groupby_col='id', freq='D', feat_static_cats=['id', '地市名称'],feat_static_reals=['地市编码'], count_data=False)"
   ]
  },
  {
   "cell_type": "code",
   "execution_count": 8,
   "metadata": {},
   "outputs": [
    {
     "name": "stdout",
     "output_type": "stream",
     "text": [
      "number of cats : 3, number of conts: 5\n"
     ]
    },
    {
     "name": "stderr",
     "output_type": "stream",
     "text": [
      "2022-12-02 21:42:01.348287: I tensorflow/core/platform/cpu_feature_guard.cc:151] This TensorFlow binary is optimized with oneAPI Deep Neural Network Library (oneDNN) to use the following CPU instructions in performance-critical operations:  AVX2 AVX512F FMA\n",
      "To enable them in other operations, rebuild TensorFlow with the appropriate compiler flags.\n",
      "2022-12-02 21:42:02.123913: I tensorflow/core/common_runtime/gpu/gpu_device.cc:1525] Created device /job:localhost/replica:0/task:0/device:GPU:0 with 14253 MB memory:  -> device: 0, name: NVIDIA RTX A4000, pci bus id: 0000:52:00.0, compute capability: 8.6\n"
     ]
    },
    {
     "name": "stdout",
     "output_type": "stream",
     "text": [
      "Model: \"model\"\n",
      "__________________________________________________________________________________________________\n",
      " Layer (type)                   Output Shape         Param #     Connected to                     \n",
      "==================================================================================================\n",
      " input_1 (InputLayer)           [(64, 20)]           0           []                               \n",
      "                                                                                                  \n",
      " input_2 (InputLayer)           [(64, 20)]           0           []                               \n",
      "                                                                                                  \n",
      " input_3 (InputLayer)           [(64, 20)]           0           []                               \n",
      "                                                                                                  \n",
      " embedding (Embedding)          (64, 20, 128)        21504       ['input_1[0][0]']                \n",
      "                                                                                                  \n",
      " embedding_1 (Embedding)        (64, 20, 128)        21504       ['input_2[0][0]']                \n",
      "                                                                                                  \n",
      " embedding_2 (Embedding)        (64, 20, 128)        1664        ['input_3[0][0]']                \n",
      "                                                                                                  \n",
      " input_4 (InputLayer)           [(64, 20, 5)]        0           []                               \n",
      "                                                                                                  \n",
      " tf.concat (TFOpLambda)         (64, 20, 384)        0           ['embedding[0][0]',              \n",
      "                                                                  'embedding_1[0][0]',            \n",
      "                                                                  'embedding_2[0][0]']            \n",
      "                                                                                                  \n",
      " concatenate (Concatenate)      (64, 20, 389)        0           ['input_4[0][0]',                \n",
      "                                                                  'tf.concat[0][0]']              \n",
      "                                                                                                  \n",
      " rnn (RNN)                      (64, 20, 128)        396800      ['concatenate[0][0]']            \n",
      "                                                                                                  \n",
      " mu (Dense)                     (64, 20, 1)          129         ['rnn[0][0]']                    \n",
      "                                                                                                  \n",
      " sigma (Dense)                  (64, 20, 1)          129         ['rnn[0][0]']                    \n",
      "                                                                                                  \n",
      "==================================================================================================\n",
      "Total params: 441,730\n",
      "Trainable params: 441,730\n",
      "Non-trainable params: 0\n",
      "__________________________________________________________________________________________________\n"
     ]
    }
   ],
   "source": [
    "DeepARLearner(ds).model.summary()"
   ]
  },
  {
   "cell_type": "markdown",
   "metadata": {},
   "source": [
    "DeepAR的模型，可以调整rnn/lstm/gru，以及层数，个数，这边随便定了一下"
   ]
  },
  {
   "cell_type": "code",
   "execution_count": 9,
   "metadata": {},
   "outputs": [
    {
     "name": "stdout",
     "output_type": "stream",
     "text": [
      "number of cats : 3, number of conts: 5\n"
     ]
    }
   ],
   "source": [
    "learner = DeepARLearner(ds, cell_type='lstm',num_cells=10, num_layers=2)"
   ]
  },
  {
   "cell_type": "code",
   "execution_count": 10,
   "metadata": {},
   "outputs": [
    {
     "name": "stderr",
     "output_type": "stream",
     "text": [
      "2022-12-02 21:42:04.113342: I tensorflow/stream_executor/cuda/cuda_blas.cc:1774] TensorFloat-32 will be used for the matrix multiplication. This will only be logged once.\n"
     ]
    },
    {
     "name": "stdout",
     "output_type": "stream",
     "text": [
      "training period took 25.576476097106934 seconds\n"
     ]
    }
   ],
   "source": [
    "# training time\n",
    "train_start_time = time.time()\n",
    "best_metric, epochs = learner.fit(1)\n",
    "train_end_time = time.time()\n",
    "print(f\"training period took {train_end_time - train_start_time} seconds\")"
   ]
  },
  {
   "cell_type": "code",
   "execution_count": 11,
   "metadata": {},
   "outputs": [
    {
     "data": {
      "text/plain": [
       "(<tf.Tensor: shape=(), dtype=float32, numpy=4.5841002>, 1)"
      ]
     },
     "execution_count": 11,
     "metadata": {},
     "output_type": "execute_result"
    }
   ],
   "source": [
    "best_metric, epochs"
   ]
  },
  {
   "cell_type": "code",
   "execution_count": 12,
   "metadata": {},
   "outputs": [],
   "source": [
    "val_ds = TSTestDataset(ds, test_df.drop(columns=['固网投诉率']))"
   ]
  },
  {
   "cell_type": "code",
   "execution_count": 14,
   "metadata": {},
   "outputs": [
    {
     "name": "stdout",
     "output_type": "stream",
     "text": [
      "batch 0\n",
      "horizon idx :0\n",
      "in-sample ancestral sampling\n",
      "batch 1\n",
      "horizon idx :1\n",
      "learn from test samples\n",
      "batch 2\n",
      "horizon idx :2\n",
      "learn from test samples\n",
      "batch 3\n",
      "horizon idx :3\n",
      "learn from test samples\n",
      "batch 4\n",
      "horizon idx :4\n",
      "learn from test samples\n",
      "batch 5\n",
      "horizon idx :5\n",
      "learn from test samples\n",
      "batch 6\n",
      "horizon idx :6\n",
      "learn from test samples\n",
      "batch 7\n",
      "horizon idx :7\n",
      "learn from test samples\n",
      "batch 8\n",
      "horizon idx :8\n",
      "learn from test samples\n",
      "batch 9\n",
      "horizon idx :9\n",
      "learn from test samples\n",
      "batch 10\n",
      "horizon idx :10\n",
      "learn from test samples\n",
      "batch 11\n",
      "horizon idx :11\n",
      "learn from test samples\n",
      "batch 12\n",
      "horizon idx :12\n",
      "learn from test samples\n",
      "batch 13\n",
      "horizon idx :13\n",
      "learn from test samples\n",
      "batch 14\n",
      "horizon idx :14\n",
      "learn from test samples\n",
      "batch 15\n",
      "horizon idx :15\n",
      "learn from test samples\n",
      "batch 16\n",
      "horizon idx :16\n",
      "learn from test samples\n",
      "batch 17\n",
      "horizon idx :17\n",
      "learn from test samples\n",
      "batch 18\n",
      "horizon idx :18\n",
      "learn from test samples\n",
      "batch 19\n",
      "horizon idx :19\n",
      "learn from test samples\n",
      "batch 20\n",
      "horizon idx :20\n",
      "learn from test samples\n",
      "batch 21\n",
      "horizon idx :21\n",
      "learn from test samples\n",
      "batch 22\n",
      "horizon idx :22\n",
      "learn from test samples\n",
      "batch 23\n",
      "batch 24\n",
      "horizon idx :0\n",
      "in-sample ancestral sampling\n",
      "batch 25\n",
      "horizon idx :1\n",
      "learn from test samples\n",
      "batch 26\n",
      "horizon idx :2\n",
      "learn from test samples\n",
      "batch 27\n",
      "horizon idx :3\n",
      "learn from test samples\n",
      "batch 28\n",
      "horizon idx :4\n",
      "learn from test samples\n",
      "batch 29\n",
      "horizon idx :5\n",
      "learn from test samples\n",
      "batch 30\n",
      "horizon idx :6\n",
      "learn from test samples\n",
      "batch 31\n",
      "horizon idx :7\n",
      "learn from test samples\n",
      "batch 32\n",
      "horizon idx :8\n",
      "learn from test samples\n",
      "batch 33\n",
      "horizon idx :9\n",
      "learn from test samples\n",
      "batch 34\n",
      "horizon idx :10\n",
      "learn from test samples\n",
      "batch 35\n",
      "horizon idx :11\n",
      "learn from test samples\n",
      "batch 36\n",
      "horizon idx :12\n",
      "learn from test samples\n",
      "batch 37\n",
      "horizon idx :13\n",
      "learn from test samples\n",
      "batch 38\n",
      "horizon idx :14\n",
      "learn from test samples\n",
      "batch 39\n",
      "horizon idx :15\n",
      "learn from test samples\n",
      "batch 40\n",
      "horizon idx :16\n",
      "learn from test samples\n",
      "batch 41\n",
      "horizon idx :17\n",
      "learn from test samples\n",
      "batch 42\n",
      "horizon idx :18\n",
      "learn from test samples\n",
      "batch 43\n",
      "horizon idx :19\n",
      "learn from test samples\n",
      "batch 44\n",
      "horizon idx :20\n",
      "learn from test samples\n",
      "batch 45\n",
      "horizon idx :21\n",
      "learn from test samples\n",
      "batch 46\n",
      "horizon idx :22\n",
      "learn from test samples\n",
      "batch 47\n",
      "batch 48\n",
      "horizon idx :0\n",
      "in-sample ancestral sampling\n",
      "batch 49\n",
      "horizon idx :1\n",
      "learn from test samples\n",
      "batch 50\n",
      "horizon idx :2\n",
      "learn from test samples\n",
      "batch 51\n",
      "horizon idx :3\n",
      "learn from test samples\n",
      "batch 52\n",
      "horizon idx :4\n",
      "learn from test samples\n",
      "batch 53\n",
      "horizon idx :5\n",
      "learn from test samples\n",
      "batch 54\n",
      "horizon idx :6\n",
      "learn from test samples\n",
      "batch 55\n",
      "horizon idx :7\n",
      "learn from test samples\n",
      "batch 56\n",
      "horizon idx :8\n",
      "learn from test samples\n",
      "batch 57\n",
      "horizon idx :9\n",
      "learn from test samples\n",
      "batch 58\n",
      "horizon idx :10\n",
      "learn from test samples\n",
      "batch 59\n",
      "horizon idx :11\n",
      "learn from test samples\n",
      "batch 60\n",
      "horizon idx :12\n",
      "learn from test samples\n",
      "batch 61\n",
      "horizon idx :13\n",
      "learn from test samples\n",
      "batch 62\n",
      "horizon idx :14\n",
      "learn from test samples\n",
      "batch 63\n",
      "horizon idx :15\n",
      "learn from test samples\n",
      "batch 64\n",
      "horizon idx :16\n",
      "learn from test samples\n",
      "batch 65\n",
      "horizon idx :17\n",
      "learn from test samples\n",
      "batch 66\n",
      "horizon idx :18\n",
      "learn from test samples\n",
      "batch 67\n",
      "horizon idx :19\n",
      "learn from test samples\n",
      "batch 68\n",
      "horizon idx :20\n",
      "learn from test samples\n",
      "batch 69\n",
      "horizon idx :21\n",
      "learn from test samples\n",
      "batch 70\n",
      "horizon idx :22\n",
      "learn from test samples\n",
      "batch 71\n",
      "batch 72\n",
      "inference period took 18.059350967407227 seconds\n"
     ]
    }
   ],
   "source": [
    "# inference period\n",
    "inference_start_time = time.time()\n",
    "pred = learner.predict(val_ds, samples=1, point_estimate=True, return_in_sample_predictions=False)\n",
    "inference_end_time = time.time()\n",
    "print(f\"inference period took {inference_end_time - inference_start_time} seconds\")"
   ]
  },
  {
   "cell_type": "code",
   "execution_count": 15,
   "metadata": {},
   "outputs": [
    {
     "data": {
      "text/plain": [
       "(167, 23, 1)"
      ]
     },
     "execution_count": 15,
     "metadata": {},
     "output_type": "execute_result"
    }
   ],
   "source": [
    "pred.shape"
   ]
  },
  {
   "cell_type": "markdown",
   "metadata": {},
   "source": [
    "将结果平铺开，即可放回test_df中作为预测值"
   ]
  },
  {
   "cell_type": "code",
   "execution_count": 17,
   "metadata": {},
   "outputs": [],
   "source": [
    "pred_df = test_df.sort_values(by=['id', '日期'])"
   ]
  },
  {
   "cell_type": "code",
   "execution_count": 20,
   "metadata": {},
   "outputs": [
    {
     "data": {
      "text/plain": [
       "array([2.8610442, 2.8983798, 3.0003827, ..., 6.0593147, 6.093418 ,\n",
       "       6.1269655], dtype=float32)"
      ]
     },
     "execution_count": 20,
     "metadata": {},
     "output_type": "execute_result"
    }
   ],
   "source": [
    "pred.ravel()"
   ]
  },
  {
   "cell_type": "code",
   "execution_count": 21,
   "metadata": {},
   "outputs": [],
   "source": [
    "pred_df['pred'] = pred.ravel()"
   ]
  },
  {
   "cell_type": "code",
   "execution_count": 34,
   "metadata": {},
   "outputs": [],
   "source": [
    "pred_df['pred'] = np.round(pred_df['pred'])"
   ]
  },
  {
   "cell_type": "markdown",
   "metadata": {},
   "source": [
    "## 计算metrics\n",
    "由于真实值存在0，会导致mape的分母除以0，所以采用smape，abs_error,mse这些指标对比"
   ]
  },
  {
   "cell_type": "code",
   "execution_count": 66,
   "metadata": {},
   "outputs": [],
   "source": [
    "\n",
    "import pandas as pd\n",
    "import numpy as np\n",
    "  \n",
    "# Define the function to return the SMAPE value\n",
    "def calculate_smape(actual, predicted) -> float:\n",
    "  \n",
    "    # Convert actual and predicted to numpy\n",
    "    # array data type if not already\n",
    "    if not all([isinstance(actual, np.ndarray), \n",
    "                isinstance(predicted, np.ndarray)]):\n",
    "        actual, predicted = np.array(actual), np.array(predicted)\n",
    "  \n",
    "    return round(\n",
    "        np.mean(\n",
    "            np.abs(predicted - actual) / \n",
    "            ((np.abs(predicted) + np.abs(actual))/2)\n",
    "        ), 2\n",
    "    )"
   ]
  },
  {
   "cell_type": "code",
   "execution_count": 47,
   "metadata": {},
   "outputs": [
    {
     "data": {
      "text/html": [
       "<div>\n",
       "<style scoped>\n",
       "    .dataframe tbody tr th:only-of-type {\n",
       "        vertical-align: middle;\n",
       "    }\n",
       "\n",
       "    .dataframe tbody tr th {\n",
       "        vertical-align: top;\n",
       "    }\n",
       "\n",
       "    .dataframe thead th {\n",
       "        text-align: right;\n",
       "    }\n",
       "</style>\n",
       "<table border=\"1\" class=\"dataframe\">\n",
       "  <thead>\n",
       "    <tr style=\"text-align: right;\">\n",
       "      <th></th>\n",
       "      <th>日期</th>\n",
       "      <th>固网投诉率</th>\n",
       "      <th>地市编码</th>\n",
       "      <th>地市名称</th>\n",
       "      <th>id</th>\n",
       "      <th>pred</th>\n",
       "    </tr>\n",
       "  </thead>\n",
       "  <tbody>\n",
       "    <tr>\n",
       "      <th>122</th>\n",
       "      <td>2022-08-01</td>\n",
       "      <td>2</td>\n",
       "      <td>30.0</td>\n",
       "      <td>HB1873194620</td>\n",
       "      <td>30_HB1873194620</td>\n",
       "      <td>3.0</td>\n",
       "    </tr>\n",
       "    <tr>\n",
       "      <th>123</th>\n",
       "      <td>2022-08-02</td>\n",
       "      <td>3</td>\n",
       "      <td>30.0</td>\n",
       "      <td>HB1873194620</td>\n",
       "      <td>30_HB1873194620</td>\n",
       "      <td>3.0</td>\n",
       "    </tr>\n",
       "    <tr>\n",
       "      <th>124</th>\n",
       "      <td>2022-08-03</td>\n",
       "      <td>4</td>\n",
       "      <td>30.0</td>\n",
       "      <td>HB1873194620</td>\n",
       "      <td>30_HB1873194620</td>\n",
       "      <td>3.0</td>\n",
       "    </tr>\n",
       "    <tr>\n",
       "      <th>125</th>\n",
       "      <td>2022-08-04</td>\n",
       "      <td>2</td>\n",
       "      <td>30.0</td>\n",
       "      <td>HB1873194620</td>\n",
       "      <td>30_HB1873194620</td>\n",
       "      <td>3.0</td>\n",
       "    </tr>\n",
       "    <tr>\n",
       "      <th>126</th>\n",
       "      <td>2022-08-05</td>\n",
       "      <td>3</td>\n",
       "      <td>30.0</td>\n",
       "      <td>HB1873194620</td>\n",
       "      <td>30_HB1873194620</td>\n",
       "      <td>3.0</td>\n",
       "    </tr>\n",
       "    <tr>\n",
       "      <th>...</th>\n",
       "      <td>...</td>\n",
       "      <td>...</td>\n",
       "      <td>...</td>\n",
       "      <td>...</td>\n",
       "      <td>...</td>\n",
       "      <td>...</td>\n",
       "    </tr>\n",
       "    <tr>\n",
       "      <th>24209</th>\n",
       "      <td>2022-08-19</td>\n",
       "      <td>7</td>\n",
       "      <td>335.0</td>\n",
       "      <td>HB1828888888</td>\n",
       "      <td>335_HB1828888888</td>\n",
       "      <td>6.0</td>\n",
       "    </tr>\n",
       "    <tr>\n",
       "      <th>24210</th>\n",
       "      <td>2022-08-20</td>\n",
       "      <td>6</td>\n",
       "      <td>335.0</td>\n",
       "      <td>HB1828888888</td>\n",
       "      <td>335_HB1828888888</td>\n",
       "      <td>6.0</td>\n",
       "    </tr>\n",
       "    <tr>\n",
       "      <th>24211</th>\n",
       "      <td>2022-08-21</td>\n",
       "      <td>6</td>\n",
       "      <td>335.0</td>\n",
       "      <td>HB1828888888</td>\n",
       "      <td>335_HB1828888888</td>\n",
       "      <td>6.0</td>\n",
       "    </tr>\n",
       "    <tr>\n",
       "      <th>24212</th>\n",
       "      <td>2022-08-22</td>\n",
       "      <td>6</td>\n",
       "      <td>335.0</td>\n",
       "      <td>HB1828888888</td>\n",
       "      <td>335_HB1828888888</td>\n",
       "      <td>6.0</td>\n",
       "    </tr>\n",
       "    <tr>\n",
       "      <th>24213</th>\n",
       "      <td>2022-08-23</td>\n",
       "      <td>5</td>\n",
       "      <td>335.0</td>\n",
       "      <td>HB1828888888</td>\n",
       "      <td>335_HB1828888888</td>\n",
       "      <td>6.0</td>\n",
       "    </tr>\n",
       "  </tbody>\n",
       "</table>\n",
       "<p>3841 rows × 6 columns</p>\n",
       "</div>"
      ],
      "text/plain": [
       "              日期  固网投诉率   地市编码          地市名称                id  pred\n",
       "122   2022-08-01      2   30.0  HB1873194620   30_HB1873194620   3.0\n",
       "123   2022-08-02      3   30.0  HB1873194620   30_HB1873194620   3.0\n",
       "124   2022-08-03      4   30.0  HB1873194620   30_HB1873194620   3.0\n",
       "125   2022-08-04      2   30.0  HB1873194620   30_HB1873194620   3.0\n",
       "126   2022-08-05      3   30.0  HB1873194620   30_HB1873194620   3.0\n",
       "...          ...    ...    ...           ...               ...   ...\n",
       "24209 2022-08-19      7  335.0  HB1828888888  335_HB1828888888   6.0\n",
       "24210 2022-08-20      6  335.0  HB1828888888  335_HB1828888888   6.0\n",
       "24211 2022-08-21      6  335.0  HB1828888888  335_HB1828888888   6.0\n",
       "24212 2022-08-22      6  335.0  HB1828888888  335_HB1828888888   6.0\n",
       "24213 2022-08-23      5  335.0  HB1828888888  335_HB1828888888   6.0\n",
       "\n",
       "[3841 rows x 6 columns]"
      ]
     },
     "execution_count": 47,
     "metadata": {},
     "output_type": "execute_result"
    }
   ],
   "source": [
    "pred_df"
   ]
  },
  {
   "cell_type": "markdown",
   "metadata": {},
   "source": [
    "### MSE"
   ]
  },
  {
   "cell_type": "code",
   "execution_count": 43,
   "metadata": {},
   "outputs": [
    {
     "name": "stdout",
     "output_type": "stream",
     "text": [
      "5.4162978391044\n"
     ]
    }
   ],
   "source": [
    "mse = mean_squared_error(pred_df['固网投诉率'], pred_df['pred'])\n",
    "print(mse)"
   ]
  },
  {
   "cell_type": "markdown",
   "metadata": {},
   "source": [
    "### abs_error"
   ]
  },
  {
   "cell_type": "code",
   "execution_count": 53,
   "metadata": {},
   "outputs": [
    {
     "name": "stdout",
     "output_type": "stream",
     "text": [
      "5612.0\n"
     ]
    }
   ],
   "source": [
    "abs_error = np.sum(np.abs(pred_df['固网投诉率'] - pred_df['pred']))\n",
    "print(abs_error)"
   ]
  },
  {
   "cell_type": "markdown",
   "metadata": {},
   "source": [
    "### SMAPE"
   ]
  },
  {
   "cell_type": "code",
   "execution_count": 59,
   "metadata": {},
   "outputs": [
    {
     "name": "stdout",
     "output_type": "stream",
     "text": [
      "0.39\n"
     ]
    }
   ],
   "source": [
    "smape = calculate_smape(pred_df['固网投诉率'], pred_df['pred'])\n",
    "print(smape)"
   ]
  },
  {
   "cell_type": "code",
   "execution_count": 68,
   "metadata": {},
   "outputs": [
    {
     "name": "stdout",
     "output_type": "stream",
     "text": [
      "0.38296084649638623\n"
     ]
    }
   ],
   "source": [
    "from sklearn.metrics import mean_absolute_percentage_error, mean_squared_error\n",
    "#非要算mape就把真实值，预测值+1对比一下\n",
    "mape = mean_absolute_percentage_error(pred_df['固网投诉率']+1, pred_df['pred']+1)\n",
    "print(mape)"
   ]
  },
  {
   "cell_type": "code",
   "execution_count": null,
   "metadata": {},
   "outputs": [],
   "source": []
  }
 ],
 "metadata": {
  "kernelspec": {
   "display_name": "Python 3 (ipykernel)",
   "language": "python",
   "name": "python3"
  },
  "language_info": {
   "codemirror_mode": {
    "name": "ipython",
    "version": 3
   },
   "file_extension": ".py",
   "mimetype": "text/x-python",
   "name": "python",
   "nbconvert_exporter": "python",
   "pygments_lexer": "ipython3",
   "version": "3.8.10"
  }
 },
 "nbformat": 4,
 "nbformat_minor": 4
}
