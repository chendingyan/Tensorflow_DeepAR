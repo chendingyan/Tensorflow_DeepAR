{
 "cells": [
  {
   "cell_type": "code",
   "execution_count": 1,
   "metadata": {},
   "outputs": [],
   "source": [
    "%load_ext autoreload\n",
    "%autoreload 2"
   ]
  },
  {
   "cell_type": "code",
   "execution_count": 2,
   "metadata": {
    "tags": []
   },
   "outputs": [
    {
     "name": "stderr",
     "output_type": "stream",
     "text": [
      "2022-11-13 16:01:45.020903: I tensorflow/core/util/util.cc:169] oneDNN custom operations are on. You may see slightly different numerical results due to floating-point round-off errors from different computation orders. To turn them off, set the environment variable `TF_ENABLE_ONEDNN_OPTS=0`.\n",
      "/root/miniconda3/lib/python3.8/site-packages/statsmodels/compat/pandas.py:65: FutureWarning: pandas.Int64Index is deprecated and will be removed from pandas in a future version. Use pandas.Index with the appropriate dtype instead.\n",
      "  from pandas import Int64Index as NumericIndex\n"
     ]
    }
   ],
   "source": [
    "import pandas as pd\n",
    "from deepar.time_series import TimeSeriesTrain, TimeSeriesTest\n",
    "from deepar.learner import DeepARLearner\n",
    "import tensorflow as tf\n",
    "import numpy as np\n",
    "import os \n",
    "import category_encoders\n",
    "os.environ[\"CUDA_DEVICE_ORDER\"] = 'PCI_BUS_ID'\n",
    "os.environ['CUDA_VISIBLE_DEVICES'] = '0'\n",
    "\n",
    "gpus = tf.config.experimental.list_physical_devices(\"GPU\")\n",
    "if gpus:\n",
    "    try:\n",
    "        for gpu in gpus:\n",
    "            tf.config.experimental.set_memory_growth(gpu, True)\n",
    "    except RuntimeError as e:\n",
    "        print(e)\n",
    "        exit(-1)\n"
   ]
  },
  {
   "cell_type": "code",
   "execution_count": 3,
   "metadata": {},
   "outputs": [],
   "source": [
    "train = pd.read_csv(\"data/train.csv\", parse_dates = [\"datetime\"])\n",
    "test = pd.read_csv(\"data/test.csv\", parse_dates = [\"datetime\"])"
   ]
  },
  {
   "cell_type": "code",
   "execution_count": 5,
   "metadata": {},
   "outputs": [],
   "source": [
    "train['datetime'] = pd.date_range(start='2011-01-01', periods=len(train), freq='D')\n",
    "train['series'] = 'Unique'"
   ]
  },
  {
   "cell_type": "code",
   "execution_count": 6,
   "metadata": {},
   "outputs": [],
   "source": [
    "train_df = train[:10880]\n",
    "val = train[10880:]"
   ]
  },
  {
   "cell_type": "code",
   "execution_count": 7,
   "metadata": {},
   "outputs": [
    {
     "name": "stderr",
     "output_type": "stream",
     "text": [
      "/root/autodl-tmp/mydeepar/deepar/time_series.py:98: SettingWithCopyWarning: \n",
      "A value is trying to be set on a copy of a slice from a DataFrame.\n",
      "Try using .loc[row_indexer,col_indexer] = value instead\n",
      "\n",
      "See the caveats in the documentation: https://pandas.pydata.org/pandas-docs/stable/user_guide/indexing.html#returning-a-view-versus-a-copy\n",
      "  data[self.groupby_col] = data[self.groupby_col].astype(str)\n",
      "/root/autodl-tmp/mydeepar/deepar/time_series.py:190: FutureWarning: The series.append method is deprecated and will be removed from pandas in a future version. Use pandas.concat instead.\n",
      "  cat_names = self.df[cat].append(pd.Series(['dummy_test_category']))\n"
     ]
    }
   ],
   "source": [
    "ds = TimeSeriesTrain(df = train_df, date_col='datetime', target_col='count', groupby_col ='series', freq='D', feat_dynamic_reals=['temp', 'humidity'], feat_static_cats=[ 'series'], feat_static_reals=['season', 'holiday', 'workingday', 'weather',])"
   ]
  },
  {
   "cell_type": "code",
   "execution_count": 8,
   "metadata": {},
   "outputs": [
    {
     "name": "stdout",
     "output_type": "stream",
     "text": [
      "number of cats : 5, number of conts: 8\n"
     ]
    },
    {
     "name": "stderr",
     "output_type": "stream",
     "text": [
      "2022-11-13 16:02:34.365368: I tensorflow/core/platform/cpu_feature_guard.cc:193] This TensorFlow binary is optimized with oneAPI Deep Neural Network Library (oneDNN) to use the following CPU instructions in performance-critical operations:  AVX2 AVX512F AVX512_VNNI FMA\n",
      "To enable them in other operations, rebuild TensorFlow with the appropriate compiler flags.\n",
      "2022-11-13 16:02:35.164322: I tensorflow/core/common_runtime/gpu/gpu_device.cc:1532] Created device /job:localhost/replica:0/task:0/device:GPU:0 with 14255 MB memory:  -> device: 0, name: NVIDIA RTX A4000, pci bus id: 0000:52:00.0, compute capability: 8.6\n"
     ]
    },
    {
     "name": "stdout",
     "output_type": "stream",
     "text": [
      "Model: \"model\"\n",
      "__________________________________________________________________________________________________\n",
      " Layer (type)                   Output Shape         Param #     Connected to                     \n",
      "==================================================================================================\n",
      " input_1 (InputLayer)           [(64, 20)]           0           []                               \n",
      "                                                                                                  \n",
      " input_2 (InputLayer)           [(64, 20)]           0           []                               \n",
      "                                                                                                  \n",
      " input_3 (InputLayer)           [(64, 20)]           0           []                               \n",
      "                                                                                                  \n",
      " input_4 (InputLayer)           [(64, 20)]           0           []                               \n",
      "                                                                                                  \n",
      " input_5 (InputLayer)           [(64, 20)]           0           []                               \n",
      "                                                                                                  \n",
      " embedding (Embedding)          (64, 20, 128)        256         ['input_1[0][0]']                \n",
      "                                                                                                  \n",
      " embedding_1 (Embedding)        (64, 20, 128)        640         ['input_2[0][0]']                \n",
      "                                                                                                  \n",
      " embedding_2 (Embedding)        (64, 20, 128)        384         ['input_3[0][0]']                \n",
      "                                                                                                  \n",
      " embedding_3 (Embedding)        (64, 20, 128)        384         ['input_4[0][0]']                \n",
      "                                                                                                  \n",
      " embedding_4 (Embedding)        (64, 20, 128)        640         ['input_5[0][0]']                \n",
      "                                                                                                  \n",
      " input_6 (InputLayer)           [(64, 20, 8)]        0           []                               \n",
      "                                                                                                  \n",
      " tf.concat (TFOpLambda)         (64, 20, 640)        0           ['embedding[0][0]',              \n",
      "                                                                  'embedding_1[0][0]',            \n",
      "                                                                  'embedding_2[0][0]',            \n",
      "                                                                  'embedding_3[0][0]',            \n",
      "                                                                  'embedding_4[0][0]']            \n",
      "                                                                                                  \n",
      " concatenate (Concatenate)      (64, 20, 648)        0           ['input_6[0][0]',                \n",
      "                                                                  'tf.concat[0][0]']              \n",
      "                                                                                                  \n",
      " rnn (RNN)                      (64, 20, 128)        529408      ['concatenate[0][0]']            \n",
      "                                                                                                  \n",
      " mu (Dense)                     (64, 20, 1)          129         ['rnn[0][0]']                    \n",
      "                                                                                                  \n",
      " sigma (Dense)                  (64, 20, 1)          129         ['rnn[0][0]']                    \n",
      "                                                                                                  \n",
      "==================================================================================================\n",
      "Total params: 531,970\n",
      "Trainable params: 531,970\n",
      "Non-trainable params: 0\n",
      "__________________________________________________________________________________________________\n"
     ]
    }
   ],
   "source": [
    "DeepARLearner(ds).model.summary()"
   ]
  },
  {
   "cell_type": "code",
   "execution_count": 9,
   "metadata": {},
   "outputs": [
    {
     "name": "stdout",
     "output_type": "stream",
     "text": [
      "number of cats : 5, number of conts: 8\n"
     ]
    }
   ],
   "source": [
    "learner = DeepARLearner(ds, cell_type='lstm')"
   ]
  },
  {
   "cell_type": "code",
   "execution_count": 10,
   "metadata": {},
   "outputs": [
    {
     "name": "stderr",
     "output_type": "stream",
     "text": [
      "2022-11-13 16:02:47.140302: I tensorflow/stream_executor/cuda/cuda_blas.cc:1786] TensorFloat-32 will be used for the matrix multiplication. This will only be logged once.\n"
     ]
    },
    {
     "data": {
      "text/plain": [
       "(<tf.Tensor: shape=(), dtype=float32, numpy=0.10239862>, 1)"
      ]
     },
     "execution_count": 10,
     "metadata": {},
     "output_type": "execute_result"
    }
   ],
   "source": [
    "learner.fit(1)"
   ]
  },
  {
   "cell_type": "code",
   "execution_count": 12,
   "metadata": {},
   "outputs": [],
   "source": [
    "val_ds = TimeSeriesTest(ds, val.drop(columns=['count']))"
   ]
  },
  {
   "cell_type": "code",
   "execution_count": 13,
   "metadata": {},
   "outputs": [
    {
     "name": "stderr",
     "output_type": "stream",
     "text": [
      "/root/miniconda3/lib/python3.8/site-packages/sklearn/base.py:493: FutureWarning: The feature names should match those that were passed during fit. Starting version 1.2, an error will be raised.\n",
      "Feature names must be in the same order as they were in fit.\n",
      "\n",
      "  warnings.warn(message, FutureWarning)\n"
     ]
    },
    {
     "name": "stdout",
     "output_type": "stream",
     "text": [
      "horizon idx :0\n",
      "in-sample ancestral sampling\n",
      "horizon idx :1\n",
      "learn from test samples\n",
      "horizon idx :2\n",
      "learn from test samples\n",
      "horizon idx :3\n",
      "learn from test samples\n",
      "horizon idx :4\n",
      "learn from test samples\n",
      "horizon idx :5\n",
      "learn from test samples\n"
     ]
    }
   ],
   "source": [
    "pred = learner.predict(val_ds, samples=1, return_in_sample_predictions=False)"
   ]
  },
  {
   "cell_type": "code",
   "execution_count": 14,
   "metadata": {},
   "outputs": [
    {
     "data": {
      "text/plain": [
       "array([[[ 30],\n",
       "        [ 18],\n",
       "        [120],\n",
       "        [ 14],\n",
       "        [ 17],\n",
       "        [ 47]]])"
      ]
     },
     "execution_count": 14,
     "metadata": {},
     "output_type": "execute_result"
    }
   ],
   "source": [
    "pred"
   ]
  },
  {
   "cell_type": "code",
   "execution_count": null,
   "metadata": {},
   "outputs": [],
   "source": []
  }
 ],
 "metadata": {
  "kernelspec": {
   "display_name": "Python 3 (ipykernel)",
   "language": "python",
   "name": "python3"
  },
  "language_info": {
   "codemirror_mode": {
    "name": "ipython",
    "version": 3
   },
   "file_extension": ".py",
   "mimetype": "text/x-python",
   "name": "python",
   "nbconvert_exporter": "python",
   "pygments_lexer": "ipython3",
   "version": "3.8.10"
  }
 },
 "nbformat": 4,
 "nbformat_minor": 4
}
